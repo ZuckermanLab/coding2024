{
 "cells": [
  {
   "cell_type": "markdown",
   "id": "37020a5c",
   "metadata": {},
   "source": [
    "# Battleship Game\n",
    "Complete the program that allows you to play the game __[Battleship](https://en.wikipedia.org/wiki/Battleship_(game))__ against the computer.<br>\n",
    "\n",
    "In this version, we will place the following ships: <br>\n",
    "`1x Battleship (Size 5)`<br>\n",
    "`2x Destroyer (Size 4)`<br>\n",
    "`3x Cruiser (Size 3)`<br>\n",
    "`4x Submarine (Size 2)`<br>\n",
    "\n",
    "### Your Goals:\n",
    "\n",
    "- Distribute the ships randomly on the playing field (horizontal & vertical) <br>\n",
    "- Notify the player if a ship was sunk and mark the sunk ship on the playing field <br>\n",
    "- [Optional] Output if there was a close miss of a ship <br>\n",
    "\n",
    "\n",
    "The game is over when all ships have been sunk."
   ]
  },
  {
   "cell_type": "code",
   "execution_count": 1,
   "id": "2eddcd44",
   "metadata": {},
   "outputs": [],
   "source": [
    "import numpy as np\n",
    "np.set_printoptions(threshold=np.inf) #show all elements when using print"
   ]
  },
  {
   "cell_type": "markdown",
   "id": "ada404e2-0207-4e3b-9479-dd92569d86e4",
   "metadata": {},
   "source": [
    "# Initialize variables"
   ]
  },
  {
   "cell_type": "code",
   "execution_count": 2,
   "id": "d1c8f586",
   "metadata": {},
   "outputs": [],
   "source": [
    "size = 10\n",
    "\n",
    "ship_length=[5,4,4,3,3,3,2,2,2,2] #as per instructions\n",
    "name_ships=['Battleship', 'Destroyer', 'Destroyer', 'Cruiser',\n",
    "            'Cruiser', 'Cruiser', 'Submarine', 'Submarine', 'Submarine', 'Submarine']\n",
    "\n",
    "sea_output = np.full((size,size),'~',dtype=str) # for output of game\n",
    "prev_hits=[]"
   ]
  },
  {
   "cell_type": "markdown",
   "id": "ff687f21",
   "metadata": {},
   "source": [
    "# Place ships"
   ]
  },
  {
   "cell_type": "code",
   "execution_count": null,
   "id": "6c96c5c2",
   "metadata": {},
   "outputs": [],
   "source": [
    "def ship_placement(sea, length_ship=1, number_ship=1):\n",
    "    '''\n",
    "    In a square playing field represented by the 2D array sea, a ship of length length_ship is placed randomly on empty fields by changing the corresponding entries in sea from 0 to\n",
    "    number_ship.\n",
    "\n",
    "    Parameters: \n",
    "    sea: 2D len(sea)xlen(sea) numpy array with integer entries, where 0 corresponds to an empty field\n",
    "    length_ship=1: integer that corresponds to length of ship to be placed\n",
    "    number_ship=1: integer that the entry in sea should be changed to when ship is placed on corresponding site\n",
    "\n",
    "    Output:\n",
    "    no direct output, make changes to sea directly\n",
    "    ''' \n",
    "    \n",
    "                \n",
    "        "
   ]
  },
  {
   "cell_type": "code",
   "execution_count": 4,
   "id": "de6cf7d5-e5f6-4a70-9b31-ee6af9a3a5bb",
   "metadata": {},
   "outputs": [],
   "source": [
    "#Fixed playing field for testing\n",
    "sea=np.array([[ 6 , 0 , 0 , 0 , 5 , 0 , 0 , 0 , 0 , 0],\n",
    "              [ 6 , 0 , 0 , 0 , 5 , 0 , 0 , 0 , 0 , 0],\n",
    "              [ 6 , 0 , 0 , 0 , 5 , 0 , 0 , 0 , 0 , 0],\n",
    "              [ 0 , 0 , 8 , 8 , 0 , 0 ,10 , 0 , 0 , 0],\n",
    "              [ 0 , 4 , 4 , 4 , 0 , 0 ,10 , 0 , 0 , 0],\n",
    "              [ 0 , 0 , 0 , 0 , 0 , 0 , 2 , 2 , 2 , 2],\n",
    "              [ 0 , 3 , 3 , 3 , 3 , 0 , 0 , 0 , 0 , 0],\n",
    "              [ 1 , 1 , 1 , 1 , 1 , 0 , 0 , 0 , 0 , 0],\n",
    "              [ 0 , 0 , 7 , 7 , 0 , 0 , 0 , 0 , 0 , 9],\n",
    "              [ 0 , 0 , 0 , 0 , 0 , 0 , 0 , 0 , 0 , 9]])"
   ]
  },
  {
   "cell_type": "code",
   "execution_count": null,
   "id": "1b19b65a",
   "metadata": {},
   "outputs": [],
   "source": [
    "#Distribute ships randomly\n",
    "sea=np.zeros((size,size), dtype=int) #initialize playing field\n",
    "for i,l in enumerate(ship_length):        \n",
    "    ship_placement(sea, l, i+1) #place number_ship i+1 of length_ship l on sea\n"
   ]
  },
  {
   "cell_type": "markdown",
   "id": "83e13e6f",
   "metadata": {},
   "source": [
    "# The actual game"
   ]
  },
  {
   "cell_type": "code",
   "execution_count": null,
   "id": "08b8fe1f",
   "metadata": {
    "scrolled": true
   },
   "outputs": [],
   "source": [
    "#initialize while-loop\n",
    "number_hits=0\n",
    "tries=0 #counts tries\n",
    "while np.any(sea): #check if sea contains numbers different from 0\n",
    "    input_player=input('\\n  Where do you suspect a ship? Input the coordinates x,y: ')\n",
    "    if input_player.upper()=='STOP':\n",
    "        break\n",
    "    x,y = [int(coord) for coord in input_player.split(',')] #transform input string into numbers for further processing\n",
    "    if x >= size or y >= size:\n",
    "        print(\"Coordinates not on playing field. Try again!\")\n",
    "        continue\n",
    "    if (y,x) in prev_hits:\n",
    "        print(\"You already explored this field. Try again!\")\n",
    "        continue\n",
    "    else:\n",
    "        prev_hits.append((y,x))\n",
    "    tries+=1 #increase try-counter\n",
    "    if sea[y,x]>0: \n",
    "        number_hits+=1     \n",
    "        sea[y,x]=0 #delete entry in sea\n",
    "        print('Hit!')\n",
    "        sea_output[y,x] = 'X' #show hit on output battlefiled\n",
    "    else:\n",
    "        print('No hit!')\n",
    "        sea_output[y,x] = 'O'\n",
    "    print('After trying {0:d} time(s), you have scored {1:d} hit(s).'.format(tries, number_hits))\n",
    "    print(sea_output)\n",
    "else:  \n",
    "    print('You won! You sunk all ships! You needed {0:d} tries.'.format(tries))\n",
    "    print(f'Your hit rate was {number_hits/tries*100:.2f}%')\n"
   ]
  },
  {
   "cell_type": "code",
   "execution_count": null,
   "id": "3c973e20-acae-4fb0-a497-d1e53a46951a",
   "metadata": {},
   "outputs": [],
   "source": []
  }
 ],
 "metadata": {
  "kernelspec": {
   "display_name": "Python 3 (ipykernel)",
   "language": "python",
   "name": "python3"
  },
  "language_info": {
   "codemirror_mode": {
    "name": "ipython",
    "version": 3
   },
   "file_extension": ".py",
   "mimetype": "text/x-python",
   "name": "python",
   "nbconvert_exporter": "python",
   "pygments_lexer": "ipython3",
   "version": "3.11.0"
  }
 },
 "nbformat": 4,
 "nbformat_minor": 5
}
