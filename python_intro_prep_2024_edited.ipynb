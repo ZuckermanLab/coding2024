{
  "nbformat": 4,
  "nbformat_minor": 0,
  "metadata": {
    "colab": {
      "provenance": [],
      "include_colab_link": true
    },
    "kernelspec": {
      "name": "python3",
      "display_name": "Python 3"
    },
    "language_info": {
      "name": "python"
    }
  },
  "cells": [
    {
      "cell_type": "markdown",
      "metadata": {
        "id": "view-in-github",
        "colab_type": "text"
      },
      "source": [
        "<a href=\"https://colab.research.google.com/github/ZuckermanLab/coding2024/blob/main/python_intro_prep_2024_edited.ipynb\" target=\"_parent\"><img src=\"https://colab.research.google.com/assets/colab-badge.svg\" alt=\"Open In Colab\"/></a>"
      ]
    },
    {
      "cell_type": "markdown",
      "source": [
        "**It's OK to make a mistake**"
      ],
      "metadata": {
        "id": "1hLvEBUrv306"
      }
    },
    {
      "cell_type": "code",
      "execution_count": 12,
      "metadata": {
        "colab": {
          "base_uri": "https://localhost:8080/",
          "height": 111
        },
        "id": "fdHCFyTNQ2Mt",
        "outputId": "60939a22-cdbd-4baa-ca73-bef1ac67e222"
      },
      "outputs": [
        {
          "output_type": "error",
          "ename": "SyntaxError",
          "evalue": "Missing parentheses in call to 'print'. Did you mean print(...)? (<ipython-input-12-752c75ce21f3>, line 1)",
          "traceback": [
            "\u001b[0;36m  File \u001b[0;32m\"<ipython-input-12-752c75ce21f3>\"\u001b[0;36m, line \u001b[0;32m1\u001b[0m\n\u001b[0;31m    print 'hi there'\u001b[0m\n\u001b[0m    ^\u001b[0m\n\u001b[0;31mSyntaxError\u001b[0m\u001b[0;31m:\u001b[0m Missing parentheses in call to 'print'. Did you mean print(...)?\n"
          ]
        }
      ],
      "source": [
        "print 'hi there'\n"
      ]
    },
    {
      "cell_type": "markdown",
      "source": [
        "**Printing words, numbers, math calculations**"
      ],
      "metadata": {
        "id": "uzOXvf2cwJr4"
      }
    },
    {
      "cell_type": "code",
      "source": [
        "print('hi there')\n",
        "print('')  # leave a space\n",
        "# by the way, a '#' symbol means the line is a comment - it won't get processed\n",
        "\n",
        "a = 2\n",
        "b = 4\n",
        "c = a*b\n",
        "\n",
        "print('a=', a, '  b=', b, '  c=', c)\n",
        "\n",
        "# fancier way\n",
        "print(f'a={a}  b={b}  c={c}')"
      ],
      "metadata": {
        "colab": {
          "base_uri": "https://localhost:8080/"
        },
        "id": "PVPGWXMhxeHO",
        "outputId": "ebb9a776-fee8-48bc-e6c9-22b18654a083"
      },
      "execution_count": 28,
      "outputs": [
        {
          "output_type": "stream",
          "name": "stdout",
          "text": [
            "hi there\n",
            "\n",
            "a= 2   b= 4   c= 8\n",
            "a=2  b=4  c=8\n"
          ]
        }
      ]
    },
    {
      "cell_type": "code",
      "source": [
        "# you try - print something by typing below and running the cell\n"
      ],
      "metadata": {
        "id": "24SujmHW2gYB"
      },
      "execution_count": 14,
      "outputs": []
    },
    {
      "cell_type": "markdown",
      "source": [
        "**Lists and loops**"
      ],
      "metadata": {
        "id": "sDDF61hKwgvh"
      }
    },
    {
      "cell_type": "code",
      "source": [
        "dan_list = ['dog', 'cat', 'mouse']\n",
        "\n",
        "for animal in dan_list:\n",
        "  print(animal)\n",
        "\n",
        "print('')\n",
        "\n",
        "for x in dan_list:\n",
        "  print(x)\n",
        "\n",
        "print('')\n",
        "\n",
        "for x in dan_list:\n",
        "  print(animal)\n"
      ],
      "metadata": {
        "colab": {
          "base_uri": "https://localhost:8080/"
        },
        "id": "LSNUTrERNqym",
        "outputId": "77130a40-c784-444f-c8d5-2887e1752d30"
      },
      "execution_count": 15,
      "outputs": [
        {
          "output_type": "stream",
          "name": "stdout",
          "text": [
            "dog\n",
            "cat\n",
            "mouse\n",
            "\n",
            "dog\n",
            "cat\n",
            "mouse\n",
            "\n",
            "mouse\n",
            "mouse\n",
            "mouse\n"
          ]
        }
      ]
    },
    {
      "cell_type": "code",
      "source": [
        "# you try - make a list of numbers and print them.  then do a math operation on them too"
      ],
      "metadata": {
        "id": "F0WUPdMj2z0X"
      },
      "execution_count": 16,
      "outputs": []
    },
    {
      "cell_type": "markdown",
      "source": [
        "**A little more with loops**"
      ],
      "metadata": {
        "id": "iDpx-W5LwqHq"
      }
    },
    {
      "cell_type": "code",
      "source": [
        "int_list = range(5)  # range is a built-in python function\n",
        "print(int_list)\n",
        "\n",
        "print('')\n",
        "\n",
        "for i in int_list:\n",
        "  print(i)\n",
        "\n",
        "print('')\n",
        "\n",
        "my_name = 'Dan'\n",
        "for i in int_list:\n",
        "  print(f'My name is {my_name}')\n",
        "\n",
        "print('')\n",
        "\n",
        "my_name = 'Dan'\n",
        "for i in int_list:\n",
        "  print(i, i**2, i**3)  # raise to a power with **\n"
      ],
      "metadata": {
        "colab": {
          "base_uri": "https://localhost:8080/"
        },
        "id": "060ws2N9OfCT",
        "outputId": "3893c59a-cfb5-4351-bd6a-32c42196808a"
      },
      "execution_count": 17,
      "outputs": [
        {
          "output_type": "stream",
          "name": "stdout",
          "text": [
            "range(0, 5)\n",
            "\n",
            "0\n",
            "1\n",
            "2\n",
            "3\n",
            "4\n",
            "\n",
            "My name is Dan\n",
            "My name is Dan\n",
            "My name is Dan\n",
            "My name is Dan\n",
            "My name is Dan\n",
            "\n",
            "0 0 0\n",
            "1 1 1\n",
            "2 4 8\n",
            "3 9 27\n",
            "4 16 64\n"
          ]
        }
      ]
    },
    {
      "cell_type": "markdown",
      "source": [
        "**Functions**"
      ],
      "metadata": {
        "id": "9PWg6KG4xhol"
      }
    },
    {
      "cell_type": "code",
      "source": [
        "# you try - make a loop over a range of integers and print i + i**2 for each\n",
        "# or write a function to sum the numbers from 1 to 100"
      ],
      "metadata": {
        "id": "eioJiDaj3bEH"
      },
      "execution_count": 18,
      "outputs": []
    },
    {
      "cell_type": "code",
      "source": [
        "# functions are just lists of commands\n",
        "# they can take multiple 'arguments' (in parentheses) as inputs\n",
        "# they can 'return' an answer, which might be a number, string, list, ...\n",
        "\n",
        "def text_repeater(text, reps):\n",
        "  for i in range(reps):\n",
        "    print(text)\n",
        "\n",
        "text_repeater(\"oh it's you\", 4)\n",
        "\n",
        "text_repeater(\"No, it's me\", 2)\n",
        "\n",
        "def another_function():\n",
        "  print('')\n",
        "  print('this')\n",
        "  print('that')\n",
        "  print(2*3)\n",
        "\n",
        "another_function()\n",
        "\n",
        "def square_it(x):\n",
        "  return x**2\n",
        "\n",
        "print('')\n",
        "z = 5\n",
        "print( z, square_it(z))"
      ],
      "metadata": {
        "colab": {
          "base_uri": "https://localhost:8080/"
        },
        "id": "EZDbWgpexg1r",
        "outputId": "44c454b6-c115-48cf-e677-47328ff2cb4f"
      },
      "execution_count": 19,
      "outputs": [
        {
          "output_type": "stream",
          "name": "stdout",
          "text": [
            "oh it's you\n",
            "oh it's you\n",
            "oh it's you\n",
            "oh it's you\n",
            "No, it's me\n",
            "No, it's me\n",
            "\n",
            "this\n",
            "that\n",
            "6\n",
            "\n",
            "5 25\n"
          ]
        }
      ]
    },
    {
      "cell_type": "code",
      "source": [
        "# you try - make a function and call it (execute it)\n",
        "# for example - write a function that prints some text 3 times, and then sums a list of numbers"
      ],
      "metadata": {
        "id": "EQ3IfEpL4G-y"
      },
      "execution_count": 20,
      "outputs": []
    },
    {
      "cell_type": "markdown",
      "source": [
        "**Math plots with random data using Numerical Python (numpy)**"
      ],
      "metadata": {
        "id": "tO4M3Lb8zfj9"
      }
    },
    {
      "cell_type": "code",
      "source": [
        "# First, bring in the libraries of built-in functions we'll need\n",
        "import numpy as np  # numpy (numerical python) - very useful for all things math\n",
        "import matplotlib.pyplot as plt  # plotting tools\n",
        "\n",
        "# numpy arrays\n",
        "N = 15\n",
        "print('\\nNumpy arrays will be used many times in this lesson')\n",
        "x_arr = np.arange(N)\n",
        "y_arr = np.random.rand(N) # random\n",
        "print(x_arr)\n",
        "\n",
        "# simple plots\n",
        "plt.scatter(x_arr, y_arr) # plots points, taking x from first array and y from second\n",
        "plt.title('Sample plot')\n",
        "plt.xlabel('index of array')\n",
        "plt.ylabel('value of array element')\n",
        "plt.show()  # show it now in output of cell\n",
        "\n"
      ],
      "metadata": {
        "colab": {
          "base_uri": "https://localhost:8080/",
          "height": 527
        },
        "id": "u08hG6EXzlR2",
        "outputId": "97d8a5ff-1b92-4b0f-f69d-eea4fe7db96e"
      },
      "execution_count": 21,
      "outputs": [
        {
          "output_type": "stream",
          "name": "stdout",
          "text": [
            "\n",
            "Numpy arrays will be used many times in this lesson\n",
            "[ 0  1  2  3  4  5  6  7  8  9 10 11 12 13 14]\n"
          ]
        },
        {
          "output_type": "display_data",
          "data": {
            "text/plain": [
              "<Figure size 640x480 with 1 Axes>"
            ],
            "image/png": "[encoded data removed]"
          },
          "metadata": {}
        }
      ]
    },
    {
      "cell_type": "code",
      "source": [
        "# plot the same data, but change labels"
      ],
      "metadata": {
        "id": "V5nRQ5z94mdg"
      },
      "execution_count": 22,
      "outputs": []
    },
    {
      "cell_type": "code",
      "source": [
        "# new cell\n",
        "\n",
        "# second set of arrays\n",
        "# check if there are append commands in numpy and start from empty array?\n",
        "x_arr = np.arange(0, 10, 0.1)\n",
        "y_arr = np.zeros( len(x_arr) )  # initialize\n",
        "\n",
        "print('x_arr:', x_arr) # print stuff to see what it looks like\n",
        "print('')  # print a space to make it easy to see different arays\n",
        "print('y_arr:', y_arr)\n",
        "\n",
        "# initialize other arrays for comparison\n",
        "y_arr_2 = np.zeros( len(x_arr) )  # initialize\n",
        "y_arr_3 = np.zeros( len(x_arr) )\n",
        "y_arr_4 = np.zeros( len(x_arr) )\n",
        "\n",
        "i = 0\n",
        "for x in x_arr:\n",
        "  #print(x, i)\n",
        "  rando = np.random.rand() # random number between zero and one\n",
        "  y_arr[i] = 3*x + 5*( rando - 0.5 )  # line of slope 3 with random 'noise' scaled by 5\n",
        "  y_arr_2[i] = 2*x  # a simple line of slope 2\n",
        "  y_arr_3[i] = 3*x  # slope 3\n",
        "  y_arr_4[i] = 4*x  # slope 4\n",
        "  i = i+1\n",
        "\n",
        "print('')  # print a space to make it easy to see different arays\n",
        "print('y_arr:', y_arr)\n",
        "print('')\n",
        "print('y_arr_2:', y_arr_2)"
      ],
      "metadata": {
        "colab": {
          "base_uri": "https://localhost:8080/"
        },
        "id": "w9m92-vz6B23",
        "outputId": "9696257a-bbe3-4a47-a3a2-a0e46eb5ae81"
      },
      "execution_count": 23,
      "outputs": [
        {
          "output_type": "stream",
          "name": "stdout",
          "text": [
            "x_arr: [0.  0.1 0.2 0.3 0.4 0.5 0.6 0.7 0.8 0.9 1.  1.1 1.2 1.3 1.4 1.5 1.6 1.7\n",
            " 1.8 1.9 2.  2.1 2.2 2.3 2.4 2.5 2.6 2.7 2.8 2.9 3.  3.1 3.2 3.3 3.4 3.5\n",
            " 3.6 3.7 3.8 3.9 4.  4.1 4.2 4.3 4.4 4.5 4.6 4.7 4.8 4.9 5.  5.1 5.2 5.3\n",
            " 5.4 5.5 5.6 5.7 5.8 5.9 6.  6.1 6.2 6.3 6.4 6.5 6.6 6.7 6.8 6.9 7.  7.1\n",
            " 7.2 7.3 7.4 7.5 7.6 7.7 7.8 7.9 8.  8.1 8.2 8.3 8.4 8.5 8.6 8.7 8.8 8.9\n",
            " 9.  9.1 9.2 9.3 9.4 9.5 9.6 9.7 9.8 9.9]\n",
            "\n",
            "y_arr: [0. 0. 0. 0. 0. 0. 0. 0. 0. 0. 0. 0. 0. 0. 0. 0. 0. 0. 0. 0. 0. 0. 0. 0.\n",
            " 0. 0. 0. 0. 0. 0. 0. 0. 0. 0. 0. 0. 0. 0. 0. 0. 0. 0. 0. 0. 0. 0. 0. 0.\n",
            " 0. 0. 0. 0. 0. 0. 0. 0. 0. 0. 0. 0. 0. 0. 0. 0. 0. 0. 0. 0. 0. 0. 0. 0.\n",
            " 0. 0. 0. 0. 0. 0. 0. 0. 0. 0. 0. 0. 0. 0. 0. 0. 0. 0. 0. 0. 0. 0. 0. 0.\n",
            " 0. 0. 0. 0.]\n",
            "\n",
            "y_arr: [-1.52742512  0.83571215  2.05332166  1.3359984  -1.0217016  -0.99042903\n",
            "  2.86995388  1.79560238  0.93154284  0.64364537  4.73834911  5.49097175\n",
            "  1.78093894  2.64800711  4.28535568  3.48111241  6.16400211  3.69472783\n",
            "  3.87850538  6.72895573  4.59907472  5.61223964  5.52695864  6.33320257\n",
            "  7.55207628  5.26539209  5.48163062 10.35295847  6.17729323  7.30092503\n",
            "  9.57435244  8.44006688 10.78271078  9.44732783 12.38486995  8.77207103\n",
            "  8.55905185 12.7303531   9.98581512 10.07821831 13.51391648 10.12518105\n",
            " 10.65928981 11.21822188 14.40112688 12.19008283 15.85679903 14.98938332\n",
            " 14.54936015 12.35037077 14.51733927 13.51742062 17.53122769 17.15146165\n",
            " 18.26971188 17.87799499 14.36690841 18.69959967 17.09780797 15.31238779\n",
            " 18.14248174 16.08231465 19.64672966 21.19733957 21.48236021 19.68387752\n",
            " 20.13718699 18.19099684 18.52647549 19.6256284  19.62467853 21.36016997\n",
            " 22.02681482 21.80593391 23.9288407  21.58229244 25.04567921 22.40671392\n",
            " 21.98688423 21.21930418 22.1206316  21.94604733 26.72767644 23.62588602\n",
            " 26.74398668 25.706956   25.71399816 27.25561156 27.02225989 27.66811114\n",
            " 26.43496193 28.97113851 25.99627452 29.48265525 26.38574673 28.35076099\n",
            " 28.1299648  30.59563895 28.7457913  28.51463178]\n",
            "\n",
            "y_arr_2: [ 0.   0.2  0.4  0.6  0.8  1.   1.2  1.4  1.6  1.8  2.   2.2  2.4  2.6\n",
            "  2.8  3.   3.2  3.4  3.6  3.8  4.   4.2  4.4  4.6  4.8  5.   5.2  5.4\n",
            "  5.6  5.8  6.   6.2  6.4  6.6  6.8  7.   7.2  7.4  7.6  7.8  8.   8.2\n",
            "  8.4  8.6  8.8  9.   9.2  9.4  9.6  9.8 10.  10.2 10.4 10.6 10.8 11.\n",
            " 11.2 11.4 11.6 11.8 12.  12.2 12.4 12.6 12.8 13.  13.2 13.4 13.6 13.8\n",
            " 14.  14.2 14.4 14.6 14.8 15.  15.2 15.4 15.6 15.8 16.  16.2 16.4 16.6\n",
            " 16.8 17.  17.2 17.4 17.6 17.8 18.  18.2 18.4 18.6 18.8 19.  19.2 19.4\n",
            " 19.6 19.8]\n"
          ]
        }
      ]
    },
    {
      "cell_type": "code",
      "source": [
        "# plot the various arrays\n",
        "\n",
        "# plot new arrays\n",
        "plt.scatter(x_arr, y_arr_4, label='slope=4')\n",
        "plt.scatter(x_arr, y_arr_3, label='slope=3')\n",
        "plt.scatter(x_arr, y_arr_2, label='slope=2')\n",
        "plt.scatter(x_arr, y_arr, label='noisy data')\n",
        "plt.title('Data with noise and some lines with different slopes')\n",
        "plt.xlabel('x')\n",
        "plt.ylabel('y')\n",
        "plt.legend(loc=\"upper left\")\n",
        "plt.show()  # show it now in output of cell"
      ],
      "metadata": {
        "colab": {
          "base_uri": "https://localhost:8080/",
          "height": 472
        },
        "id": "cgf7qQpMSPJp",
        "outputId": "24382473-cafe-4e12-b1fc-9083e1caf761"
      },
      "execution_count": 24,
      "outputs": [
        {
          "output_type": "display_data",
          "data": {
            "text/plain": [
              "<Figure size 640x480 with 1 Axes>"
            ],
            "image/png": "[encoded data removed]"
          },
          "metadata": {}
        }
      ]
    },
    {
      "cell_type": "markdown",
      "source": [
        "**Fitting Data**"
      ],
      "metadata": {
        "id": "U43IhrCr4uA4"
      }
    },
    {
      "cell_type": "code",
      "source": [
        "def error_of_fit_abs( x_array, y_array, slope): # function to compute error between data and straight line\n",
        "  error = 0 # initialize, then add to this\n",
        "  for i in range( len(x_array) ):\n",
        "    x = x_array[i]\n",
        "    y = y_array[i]\n",
        "    error += abs(y - slope*x)  # the compound '+=' tells python to add whatever's on the right to the left variable\n",
        "    #print(x, y, slope*x, error)\n",
        "  return error\n",
        "\n",
        "print(2, error_of_fit_abs(x_arr, y_arr, 2))\n",
        "print(3, error_of_fit_abs(x_arr, y_arr, 3))\n",
        "print(4, error_of_fit_abs(x_arr, y_arr, 4))\n",
        "print('')\n",
        "\n"
      ],
      "metadata": {
        "colab": {
          "base_uri": "https://localhost:8080/"
        },
        "id": "nx0yUnv044WJ",
        "outputId": "1cb8defe-c037-4cba-eacd-4ead48cdfd3f"
      },
      "execution_count": 25,
      "outputs": [
        {
          "output_type": "stream",
          "name": "stdout",
          "text": [
            "2 484.37761749437885\n",
            "3 134.6813158808338\n",
            "4 529.4378536264779\n",
            "\n"
          ]
        }
      ]
    },
    {
      "cell_type": "code",
      "source": [
        "# make a loop for finer-grained 'grid search'\n",
        "slopes_array = np.arange(1.0, 5.0, 0.1)  # for plotting\n",
        "n_slopes = len(slopes_array) # number of elements in array\n",
        "\n",
        "x_slopes = np.zeros( n_slopes )\n",
        "y_fits = np.zeros( n_slopes )\n",
        "\n",
        "# make arrays for plotting\n",
        "i = 0\n",
        "for slope in slopes_array:\n",
        "  x_slopes[i] = slope\n",
        "  y_fits[i] = error_of_fit_abs(x_arr, y_arr, slope)\n",
        "  i = i+1\n",
        "\n",
        "plt.scatter(x_slopes, y_fits, label='Error in fit')\n",
        "plt.title(\"'Grid search' in one dimension\")\n",
        "plt.xlabel('Slope')\n",
        "plt.ylabel('Error in Fit')\n",
        "plt.legend(loc=\"upper left\")\n",
        "plt.show()  # show it now in output of cell"
      ],
      "metadata": {
        "colab": {
          "base_uri": "https://localhost:8080/",
          "height": 472
        },
        "id": "2eWTK-KQ7cNW",
        "outputId": "271cb812-e7c8-4cf6-d42b-1321da36128e"
      },
      "execution_count": 26,
      "outputs": [
        {
          "output_type": "display_data",
          "data": {
            "text/plain": [
              "<Figure size 640x480 with 1 Axes>"
            ],
            "image/png": "[encoded data removed]"
          },
          "metadata": {}
        }
      ]
    },
    {
      "cell_type": "code",
      "source": [],
      "metadata": {
        "id": "lyGiFVXZSURP"
      },
      "execution_count": 26,
      "outputs": []
    },
    {
      "cell_type": "markdown",
      "source": [
        "2D loop ... suggests 2D grid search"
      ],
      "metadata": {
        "id": "t6gCEwkMHpDy"
      }
    }
  ]
}