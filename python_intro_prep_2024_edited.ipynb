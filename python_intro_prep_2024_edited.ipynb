{
  "nbformat": 4,
  "nbformat_minor": 0,
  "metadata": {
    "colab": {
      "provenance": []
    },
    "kernelspec": {
      "name": "python3",
      "display_name": "Python 3"
    },
    "language_info": {
      "name": "python"
    }
  },
  "cells": [
    {
      "cell_type": "markdown",
      "source": [
        "**It's OK to make a mistake**"
      ],
      "metadata": {
        "id": "1hLvEBUrv306"
      }
    },
    {
      "cell_type": "code",
      "execution_count": 3,
      "metadata": {
        "colab": {
          "base_uri": "https://localhost:8080/",
          "height": 111
        },
        "id": "fdHCFyTNQ2Mt",
        "outputId": "d68865a8-5f8b-4e25-e641-8b0f544ef9cb"
      },
      "outputs": [
        {
          "output_type": "error",
          "ename": "SyntaxError",
          "evalue": "Missing parentheses in call to 'print'. Did you mean print(...)? (<ipython-input-3-752c75ce21f3>, line 1)",
          "traceback": [
            "\u001b[0;36m  File \u001b[0;32m\"<ipython-input-3-752c75ce21f3>\"\u001b[0;36m, line \u001b[0;32m1\u001b[0m\n\u001b[0;31m    print 'hi there'\u001b[0m\n\u001b[0m    ^\u001b[0m\n\u001b[0;31mSyntaxError\u001b[0m\u001b[0;31m:\u001b[0m Missing parentheses in call to 'print'. Did you mean print(...)?\n"
          ]
        }
      ],
      "source": [
        "print 'hi there'\n"
      ]
    },
    {
      "cell_type": "markdown",
      "source": [
        "**Printing words, numbers, math calculations**"
      ],
      "metadata": {
        "id": "uzOXvf2cwJr4"
      }
    },
    {
      "cell_type": "code",
      "source": [
        "print('hi there')\n",
        "\n",
        "a = 2\n",
        "b = 4\n",
        "c = a*b\n",
        "\n",
        "print(f'a={a}  b={b}  c={c}')"
      ],
      "metadata": {
        "colab": {
          "base_uri": "https://localhost:8080/"
        },
        "id": "PVPGWXMhxeHO",
        "outputId": "74637ac8-83d0-4d1e-b390-f923c7fd0b72"
      },
      "execution_count": 4,
      "outputs": [
        {
          "output_type": "stream",
          "name": "stdout",
          "text": [
            "hi there\n",
            "a=2  b=4  c=8\n"
          ]
        }
      ]
    },
    {
      "cell_type": "code",
      "source": [
        "# you try - print something by typing below and running the cell\n",
        "# by the way, a '#' symbol means the line is a comment - it won't get processed"
      ],
      "metadata": {
        "id": "24SujmHW2gYB"
      },
      "execution_count": 5,
      "outputs": []
    },
    {
      "cell_type": "markdown",
      "source": [
        "**Lists and loops**"
      ],
      "metadata": {
        "id": "sDDF61hKwgvh"
      }
    },
    {
      "cell_type": "code",
      "source": [
        "dan_list = ['dog', 'cat', 'mouse']\n",
        "\n",
        "for animal in dan_list:\n",
        "  print(animal)\n",
        "\n",
        "print('')\n",
        "\n",
        "for x in dan_list:\n",
        "  print(x)\n",
        "\n",
        "print('')\n",
        "\n",
        "for x in dan_list:\n",
        "  print(animal)\n"
      ],
      "metadata": {
        "colab": {
          "base_uri": "https://localhost:8080/"
        },
        "id": "LSNUTrERNqym",
        "outputId": "58171d19-4c9d-4720-d0cd-c42a41b4c8cd"
      },
      "execution_count": 6,
      "outputs": [
        {
          "output_type": "stream",
          "name": "stdout",
          "text": [
            "dog\n",
            "cat\n",
            "mouse\n",
            "\n",
            "dog\n",
            "cat\n",
            "mouse\n",
            "\n",
            "mouse\n",
            "mouse\n",
            "mouse\n"
          ]
        }
      ]
    },
    {
      "cell_type": "code",
      "source": [
        "# you try - make a list of numbers and print them.  then do a math operation on them too"
      ],
      "metadata": {
        "id": "F0WUPdMj2z0X"
      },
      "execution_count": 7,
      "outputs": []
    },
    {
      "cell_type": "markdown",
      "source": [
        "**A little more with loops**"
      ],
      "metadata": {
        "id": "iDpx-W5LwqHq"
      }
    },
    {
      "cell_type": "code",
      "source": [
        "int_list = range(5)  # range is a built-in python function\n",
        "print(int_list)\n",
        "\n",
        "print('')\n",
        "\n",
        "for i in int_list:\n",
        "  print(i)\n",
        "\n",
        "print('')\n",
        "\n",
        "my_name = 'Dan'\n",
        "for i in int_list:\n",
        "  print(f'My name is {my_name}')\n",
        "\n",
        "print('')\n",
        "\n",
        "my_name = 'Dan'\n",
        "for i in int_list:\n",
        "  print(i, i**2, i**3)\n"
      ],
      "metadata": {
        "colab": {
          "base_uri": "https://localhost:8080/"
        },
        "id": "060ws2N9OfCT",
        "outputId": "76a9716c-9ed8-4066-e541-5e11ff392c3a"
      },
      "execution_count": 8,
      "outputs": [
        {
          "output_type": "stream",
          "name": "stdout",
          "text": [
            "range(0, 5)\n",
            "\n",
            "0\n",
            "1\n",
            "2\n",
            "3\n",
            "4\n",
            "\n",
            "My name is Dan\n",
            "My name is Dan\n",
            "My name is Dan\n",
            "My name is Dan\n",
            "My name is Dan\n",
            "\n",
            "0 0 0\n",
            "1 1 1\n",
            "2 4 8\n",
            "3 9 27\n",
            "4 16 64\n"
          ]
        }
      ]
    },
    {
      "cell_type": "markdown",
      "source": [
        "**Functions**"
      ],
      "metadata": {
        "id": "9PWg6KG4xhol"
      }
    },
    {
      "cell_type": "code",
      "source": [
        "# you try - make a loop over a range of integers and do some math"
      ],
      "metadata": {
        "id": "eioJiDaj3bEH"
      },
      "execution_count": 9,
      "outputs": []
    },
    {
      "cell_type": "code",
      "source": [
        "# functions are just lists of commands\n",
        "# they can take multiple 'arguments' (in parentheses) as inputs\n",
        "# they can 'return' an answer, which might be a number, string, list, ...\n",
        "\n",
        "def text_repeater(text, reps):\n",
        "  for i in range(reps):\n",
        "    print(text)\n",
        "\n",
        "text_repeater(\"oh it's you\", 4)\n",
        "\n",
        "text_repeater(\"No, it's me\", 2)\n",
        "\n",
        "def another_function():\n",
        "  print('')\n",
        "  print('this')\n",
        "  print('that')\n",
        "  print(2*3)\n",
        "\n",
        "another_function()\n",
        "\n",
        "def square_it(x):\n",
        "  return x**2\n",
        "\n",
        "print('')\n",
        "z = 5\n",
        "print( z, square_it(z))"
      ],
      "metadata": {
        "colab": {
          "base_uri": "https://localhost:8080/"
        },
        "id": "EZDbWgpexg1r",
        "outputId": "fa66a793-6dc3-4523-bb22-fb24f1965b5f"
      },
      "execution_count": 10,
      "outputs": [
        {
          "output_type": "stream",
          "name": "stdout",
          "text": [
            "oh it's you\n",
            "oh it's you\n",
            "oh it's you\n",
            "oh it's you\n",
            "No, it's me\n",
            "No, it's me\n",
            "\n",
            "this\n",
            "that\n",
            "6\n",
            "\n",
            "5 25\n"
          ]
        }
      ]
    },
    {
      "cell_type": "code",
      "source": [
        "# you try - make a function and call it (execute it)"
      ],
      "metadata": {
        "id": "EQ3IfEpL4G-y"
      },
      "execution_count": 11,
      "outputs": []
    },
    {
      "cell_type": "markdown",
      "source": [
        "**Math plots with random data using Numerical Python (numpy)**"
      ],
      "metadata": {
        "id": "tO4M3Lb8zfj9"
      }
    },
    {
      "cell_type": "code",
      "source": [
        "# First, bring in the libraries of built-in functions we'll need\n",
        "import numpy as np  # numpy (numerical python) - very useful for all things math\n",
        "import matplotlib.pyplot as plt  # plotting tools\n",
        "\n",
        "# numpy arrays\n",
        "N = 15\n",
        "print('\\nNumpy arrays will be used many times in this lesson')\n",
        "x_arr = np.arange(N)\n",
        "y_arr = np.random.rand(N) # random\n",
        "print(x_arr)\n",
        "\n",
        "# simple plots\n",
        "plt.scatter(x_arr, y_arr)\n",
        "plt.title('Sample plot')\n",
        "plt.xlabel('index of array')\n",
        "plt.ylabel('value of array element')\n",
        "plt.show()  # show it now in output of cell\n",
        "\n"
      ],
      "metadata": {
        "colab": {
          "base_uri": "https://localhost:8080/",
          "height": 527
        },
        "id": "u08hG6EXzlR2",
        "outputId": "b1a4d584-6a6e-4cd3-d6d3-52defd3b2357"
      },
      "execution_count": 12,
      "outputs": [
        {
          "output_type": "stream",
          "name": "stdout",
          "text": [
            "\n",
            "Numpy arrays will be used many times in this lesson\n",
            "[ 0  1  2  3  4  5  6  7  8  9 10 11 12 13 14]\n"
          ]
        },
        {
          "output_type": "display_data",
          "data": {
            "text/plain": [
              "<Figure size 640x480 with 1 Axes>"
            ],
            "image/png": "[encoded data removed]"
          },
          "metadata": {}
        }
      ]
    },
    {
      "cell_type": "code",
      "source": [
        "# plot the same data, but change labels"
      ],
      "metadata": {
        "id": "V5nRQ5z94mdg"
      },
      "execution_count": 13,
      "outputs": []
    },
    {
      "cell_type": "code",
      "source": [
        "# new cell\n",
        "\n",
        "# second set of arrays\n",
        "# check if there are append commands in numpy and start from empty array?\n",
        "x_arr = np.arange(0, 10, 0.1)\n",
        "y_arr = np.zeros( len(x_arr) )  # initialize\n",
        "\n",
        "print('x_arr:', x_arr) # print stuff to see what it looks like\n",
        "print('')  # print a space to make it easy to see different arays\n",
        "print('y_arr:', y_arr)\n",
        "\n",
        "# initialize other arrays for comparison\n",
        "y_arr_2 = np.zeros( len(x_arr) )  # initialize\n",
        "y_arr_3 = np.zeros( len(x_arr) )\n",
        "y_arr_4 = np.zeros( len(x_arr) )\n",
        "\n",
        "i = 0\n",
        "for x in x_arr:\n",
        "  #print(x, i)\n",
        "  rando = np.random.rand() # random number between zero and one\n",
        "  y_arr[i] = 3*x + 5*( rando - 0.5 )  # line of slope 3 with random 'noise' scaled by 5\n",
        "  y_arr_2[i] = 2*x  # a simple line of slope 2\n",
        "  y_arr_3[i] = 3*x  # slope 3\n",
        "  y_arr_4[i] = 4*x  # slope 4\n",
        "  i = i+1\n",
        "\n",
        "print('')  # print a space to make it easy to see different arays\n",
        "print('y_arr:', y_arr)\n",
        "print('')\n",
        "print('y_arr_2:', y_arr_2)"
      ],
      "metadata": {
        "colab": {
          "base_uri": "https://localhost:8080/"
        },
        "id": "w9m92-vz6B23",
        "outputId": "867d2236-050a-480a-9e85-32f69a97a1e2"
      },
      "execution_count": 20,
      "outputs": [
        {
          "output_type": "stream",
          "name": "stdout",
          "text": [
            "x_arr: [0.  0.1 0.2 0.3 0.4 0.5 0.6 0.7 0.8 0.9 1.  1.1 1.2 1.3 1.4 1.5 1.6 1.7\n",
            " 1.8 1.9 2.  2.1 2.2 2.3 2.4 2.5 2.6 2.7 2.8 2.9 3.  3.1 3.2 3.3 3.4 3.5\n",
            " 3.6 3.7 3.8 3.9 4.  4.1 4.2 4.3 4.4 4.5 4.6 4.7 4.8 4.9 5.  5.1 5.2 5.3\n",
            " 5.4 5.5 5.6 5.7 5.8 5.9 6.  6.1 6.2 6.3 6.4 6.5 6.6 6.7 6.8 6.9 7.  7.1\n",
            " 7.2 7.3 7.4 7.5 7.6 7.7 7.8 7.9 8.  8.1 8.2 8.3 8.4 8.5 8.6 8.7 8.8 8.9\n",
            " 9.  9.1 9.2 9.3 9.4 9.5 9.6 9.7 9.8 9.9]\n",
            "\n",
            "y_arr: [0. 0. 0. 0. 0. 0. 0. 0. 0. 0. 0. 0. 0. 0. 0. 0. 0. 0. 0. 0. 0. 0. 0. 0.\n",
            " 0. 0. 0. 0. 0. 0. 0. 0. 0. 0. 0. 0. 0. 0. 0. 0. 0. 0. 0. 0. 0. 0. 0. 0.\n",
            " 0. 0. 0. 0. 0. 0. 0. 0. 0. 0. 0. 0. 0. 0. 0. 0. 0. 0. 0. 0. 0. 0. 0. 0.\n",
            " 0. 0. 0. 0. 0. 0. 0. 0. 0. 0. 0. 0. 0. 0. 0. 0. 0. 0. 0. 0. 0. 0. 0. 0.\n",
            " 0. 0. 0. 0.]\n",
            "\n",
            "y_arr: [ 0.89832787 -0.59282605  0.86165737  1.62286764 -0.3803481   1.02030892\n",
            "  1.40057706  3.06919794  4.52703337  3.24396682  2.61992248  1.40730402\n",
            "  3.56656547  3.90507035  2.92986457  3.16038483  5.72819107  6.72460079\n",
            "  7.74180659  4.20112402  7.37597267  6.27746055  4.11220211  5.22067493\n",
            "  5.09898977  7.80466638  6.50969746  9.57512798  8.66149978  8.89427916\n",
            "  9.92468486  7.59015725  7.51405427 11.45258333 10.62997292 10.29562153\n",
            " 11.36034096 10.97803417 11.64063087 14.18489585 13.31308772 14.09885479\n",
            " 12.89883145 12.54365948 14.0455304  11.53111414 11.92504472 14.60007368\n",
            " 16.32146667 16.62578353 16.91909553 17.25260067 15.46627159 17.36515265\n",
            " 16.37670342 16.67273317 18.47768726 15.24055961 18.53376524 16.62493499\n",
            " 18.61114153 18.42969403 19.7512065  18.75004964 18.90181206 21.77474787\n",
            " 18.72674155 19.88127838 18.81427405 18.74964267 22.50628349 20.29882102\n",
            " 20.53403158 21.52886507 21.79640674 23.55134182 24.15856936 24.1533608\n",
            " 23.53207106 25.73755253 26.34140429 22.67428957 23.15467317 25.57107212\n",
            " 24.83092316 25.06733169 26.3471165  25.72718732 26.07279232 28.74912339\n",
            " 25.15609448 25.18105019 29.3964115  25.91180184 30.32316493 29.88141366\n",
            " 28.14524283 31.18049419 27.19850667 29.53624706]\n",
            "\n",
            "y_arr_2: [ 0.   0.2  0.4  0.6  0.8  1.   1.2  1.4  1.6  1.8  2.   2.2  2.4  2.6\n",
            "  2.8  3.   3.2  3.4  3.6  3.8  4.   4.2  4.4  4.6  4.8  5.   5.2  5.4\n",
            "  5.6  5.8  6.   6.2  6.4  6.6  6.8  7.   7.2  7.4  7.6  7.8  8.   8.2\n",
            "  8.4  8.6  8.8  9.   9.2  9.4  9.6  9.8 10.  10.2 10.4 10.6 10.8 11.\n",
            " 11.2 11.4 11.6 11.8 12.  12.2 12.4 12.6 12.8 13.  13.2 13.4 13.6 13.8\n",
            " 14.  14.2 14.4 14.6 14.8 15.  15.2 15.4 15.6 15.8 16.  16.2 16.4 16.6\n",
            " 16.8 17.  17.2 17.4 17.6 17.8 18.  18.2 18.4 18.6 18.8 19.  19.2 19.4\n",
            " 19.6 19.8]\n"
          ]
        }
      ]
    },
    {
      "cell_type": "code",
      "source": [
        "# plot the various arrays\n",
        "\n",
        "# plot new arrays\n",
        "plt.scatter(x_arr, y_arr_4, label='slope=4')\n",
        "plt.scatter(x_arr, y_arr_3, label='slope=3')\n",
        "plt.scatter(x_arr, y_arr_2, label='slope=2')\n",
        "plt.scatter(x_arr, y_arr, label='noisy data')\n",
        "plt.title('Data with noise and some lines with different slopes')\n",
        "plt.xlabel('x')\n",
        "plt.ylabel('y')\n",
        "plt.legend(loc=\"upper left\")\n",
        "plt.show()  # show it now in output of cell"
      ],
      "metadata": {
        "colab": {
          "base_uri": "https://localhost:8080/",
          "height": 472
        },
        "id": "cgf7qQpMSPJp",
        "outputId": "99e88210-5115-45aa-f2fe-94d0b0f82400"
      },
      "execution_count": 15,
      "outputs": [
        {
          "output_type": "display_data",
          "data": {
            "text/plain": [
              "<Figure size 640x480 with 1 Axes>"
            ],
            "image/png": "[encoded data removed]"
          },
          "metadata": {}
        }
      ]
    },
    {
      "cell_type": "markdown",
      "source": [
        "**Fitting Data**"
      ],
      "metadata": {
        "id": "U43IhrCr4uA4"
      }
    },
    {
      "cell_type": "code",
      "source": [
        "def error_of_fit_abs( x_array, y_array, slope): # function to compute error between data and straight line\n",
        "  error = 0 # initialize, then add to this\n",
        "  for i in range( len(x_array) ):\n",
        "    x = x_array[i]\n",
        "    y = y_array[i]\n",
        "    error += abs(y - slope*x)  # the compound '+=' tells python to add whatever's on the right to the left variable\n",
        "    #print(x, y, slope*x, error)\n",
        "  return error\n",
        "\n",
        "print(2, error_of_fit_abs(x_arr, y_arr, 2))\n",
        "print(3, error_of_fit_abs(x_arr, y_arr, 3))\n",
        "print(4, error_of_fit_abs(x_arr, y_arr, 4))\n",
        "print('')\n",
        "\n"
      ],
      "metadata": {
        "colab": {
          "base_uri": "https://localhost:8080/"
        },
        "id": "nx0yUnv044WJ",
        "outputId": "3c0226f9-cdd6-41de-d1ef-5c3f2585a914"
      },
      "execution_count": 22,
      "outputs": [
        {
          "output_type": "stream",
          "name": "stdout",
          "text": [
            "2 512.3316632101232\n",
            "3 112.02549346792102\n",
            "4 490.8174544073431\n",
            "\n"
          ]
        }
      ]
    },
    {
      "cell_type": "code",
      "source": [
        "# make a loop for finer-grained 'grid search'\n",
        "slopes_array = np.arange(1.0, 5.0, 0.1)  # for plotting\n",
        "n_slopes = len(slopes_array) # number of elements in array\n",
        "\n",
        "x_slopes = np.zeros( n_slopes )\n",
        "y_fits = np.zeros( n_slopes )\n",
        "\n",
        "# make arrays for plotting\n",
        "i = 0\n",
        "for slope in slopes_array:\n",
        "  x_slopes[i] = slope\n",
        "  y_fits[i] = error_of_fit_abs(x_arr, y_arr, slope)\n",
        "  i = i+1\n",
        "\n",
        "plt.scatter(x_slopes, y_fits, label='Error in fit')\n",
        "plt.title(\"'Grid search' in one dimension\")\n",
        "plt.xlabel('Slope')\n",
        "plt.ylabel('Error in Fit')\n",
        "plt.legend(loc=\"upper left\")\n",
        "plt.show()  # show it now in output of cell"
      ],
      "metadata": {
        "colab": {
          "base_uri": "https://localhost:8080/",
          "height": 472
        },
        "id": "2eWTK-KQ7cNW",
        "outputId": "c529b15d-d9d2-4717-ffcb-67d1c8a4fdf3"
      },
      "execution_count": 21,
      "outputs": [
        {
          "output_type": "display_data",
          "data": {
            "text/plain": [
              "<Figure size 640x480 with 1 Axes>"
            ],
            "image/png": "[encoded data removed]"
          },
          "metadata": {}
        }
      ]
    },
    {
      "cell_type": "code",
      "source": [],
      "metadata": {
        "id": "lyGiFVXZSURP"
      },
      "execution_count": 16,
      "outputs": []
    },
    {
      "cell_type": "markdown",
      "source": [
        "2D loop ... suggests 2D grid search"
      ],
      "metadata": {
        "id": "t6gCEwkMHpDy"
      }
    }
  ]
}