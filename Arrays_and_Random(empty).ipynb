{
 "cells": [
  {
   "cell_type": "code",
   "execution_count": null,
   "id": "b82c3752-b1ae-4d75-8501-8d0319eb640d",
   "metadata": {},
   "outputs": [],
   "source": [
    "import numpy as np\n",
    "import matplotlib.pyplot as plt\n",
    "np.set_printoptions(threshold=np.inf) #show all elements when using print"
   ]
  },
  {
   "cell_type": "code",
   "execution_count": null,
   "id": "a979c223-4726-426a-8b6a-6637cfac6991",
   "metadata": {},
   "outputs": [],
   "source": [
    "#introducing numpy arrays - fixed number of entries of same type (e.g. 1D array filled with integers of length 10)\n",
    "#1D array\n",
    "arr=np.array([1,2,3,4,5,6,7,8,9,10]) #initialize numpy array from list\n",
    "print(arr) #print array\n",
    "print('')\n",
    "\n",
    "print(arr[1]) #print single entry\n",
    "print('')\n",
    "\n",
    "print(arr.sum()) #prints sum of all array entries\n",
    "print('')\n",
    "\n",
    "linarray=np.arange(0,20) #create 1D array with increasing numbers from 0 to 19\n",
    "print(linarray)"
   ]
  },
  {
   "cell_type": "code",
   "execution_count": 39,
   "id": "2c5569a6-6b3c-44be-bd03-7355bf3486c7",
   "metadata": {},
   "outputs": [
    {
     "name": "stdout",
     "output_type": "stream",
     "text": [
      "[[0 0 0 0 0]\n",
      " [0 0 0 0 0]\n",
      " [0 0 0 0 0]]\n",
      "\n",
      "[[0 0 0 0 0]\n",
      " [0 0 1 0 0]\n",
      " [0 0 0 0 0]]\n",
      "\n",
      "[[ 0  1  2  3]\n",
      " [ 4  5  6  7]\n",
      " [ 8  9 10 11]\n",
      " [12 13 14 15]\n",
      " [16 17 18 19]]\n",
      "\n",
      "[4 5 6 7]\n",
      "\n",
      "6\n"
     ]
    }
   ],
   "source": [
    "#2D array\n",
    "matrix_simple=np.full((3,5),0) #create 2D 3x5 array filled with 0's\n",
    "print(matrix_simple)\n",
    "print('')\n",
    "\n",
    "matrix_simple[1,2]=1 #set single entry to 1\n",
    "print(matrix_simple)\n",
    "print('')\n",
    "\n",
    "matrix_test = linarray.reshape(5,4) #reshape 1D array into 2D array\n",
    "print(matrix_test)\n",
    "print('')\n",
    "\n",
    "print(matrix_test[1]) #print single row of 2D array\n",
    "print('')\n",
    "\n",
    "print(matrix_test[1,2]) #print single entry of 2D array"
   ]
  },
  {
   "cell_type": "code",
   "execution_count": null,
   "id": "fbaabe5c-e3ca-495f-aece-941de657c98d",
   "metadata": {},
   "outputs": [],
   "source": [
    "np.random.seed(10) #set seed for pseudo-random number generator"
   ]
  },
  {
   "cell_type": "code",
   "execution_count": null,
   "id": "7f0e9e15-572f-4760-b4e3-a6642f299e66",
   "metadata": {},
   "outputs": [],
   "source": [
    "#use random library in numpy\n",
    "print(np.random.random()) #generates random number between [0,1)\n",
    "print('')\n",
    "\n",
    "print(np.random.randint(5,10)) #generates random integer between [5,10)\n",
    "print('')\n",
    "\n",
    "np.random.shuffle(arr) #randomly shuffles array in-place\n",
    "print(arr)\n",
    "print('')\n",
    "\n",
    "print(arr.sum()) #sum remains unchanged"
   ]
  },
  {
   "cell_type": "code",
   "execution_count": null,
   "id": "603ef525-5191-437a-a19f-4ee148bd4583",
   "metadata": {},
   "outputs": [],
   "source": [
    "#Try it out yourself!\n",
    "#Generate an array of length 100 filled with random integers between 1 and 3 (inclusive). What is the sum of all the numbers in that list?\n"
   ]
  },
  {
   "cell_type": "code",
   "execution_count": null,
   "id": "26d8923f-4145-4d10-b6ae-c64fbe19ada7",
   "metadata": {},
   "outputs": [],
   "source": [
    "def multi_dice_throw(number_dice, type_dice=6):\n",
    "    '''\n",
    "    This function simulates a multi dice throw with number_dice number of dice at the same time \n",
    "\n",
    "    Parameters: \n",
    "    number_dice (int): number of dice being thrown\n",
    "    type_dice=6 (int): number of sides of the dice, which corresponds to highest number that can be obtained with a single dice\n",
    "\n",
    "    Output: Sum of all dice\n",
    "    '''\n",
    "    "
   ]
  },
  {
   "cell_type": "code",
   "execution_count": null,
   "id": "7bf52469-6401-44c9-a2f8-236fac473e80",
   "metadata": {},
   "outputs": [],
   "source": [
    "def multi_multi_dice_throw(number_throws, number_dice=1, type_dice=6):\n",
    "    '''\n",
    "    This function simulates number_throws throws with number_dice number of dice\n",
    "\n",
    "    Parameters: \n",
    "    number_throws (int): number of multiple dice throws\n",
    "    number_dice (int): number of dice being thrown\n",
    "    type_dice=6 (int): number of sides of the dice, which corresponds to highest number that can be obtained with a single dice\n",
    "\n",
    "    Output: numpy array of length number_throws with the sum of dice of each throw as entries \n",
    "    '''\n",
    "    "
   ]
  },
  {
   "cell_type": "code",
   "execution_count": null,
   "id": "f56ccb2d-33f9-4515-ab0a-a3a451347cae",
   "metadata": {},
   "outputs": [],
   "source": [
    "#Main program \n",
    "type_dice=6 #number of dice sides\n",
    "number_dice=3 #number of dice in single throw\n",
    "number_throws=100000 #number of throws\n",
    "\n",
    "statistic=multi_multi_dice_throw(number_throws, number_dice, type_dice)\n",
    "\n",
    "#Output\n",
    "plt.figure() #generate new figure\n",
    "plt.hist(statistic, bins=range(1,type_dice*number_dice+2), rwidth=0.8, align='left')\n",
    "plt.xlabel('Sum of dice throws') \n",
    "plt.ylabel('Number of throws')\n",
    "\n",
    "plt.title('Histogram for throw of {} {}er-dice'.format(number_dice, type_dice))\n",
    "plt.show() "
   ]
  }
 ],
 "metadata": {
  "kernelspec": {
   "display_name": "Python 3 (ipykernel)",
   "language": "python",
   "name": "python3"
  },
  "language_info": {
   "codemirror_mode": {
    "name": "ipython",
    "version": 3
   },
   "file_extension": ".py",
   "mimetype": "text/x-python",
   "name": "python",
   "nbconvert_exporter": "python",
   "pygments_lexer": "ipython3",
   "version": "3.11.0"
  }
 },
 "nbformat": 4,
 "nbformat_minor": 5
}
